{
 "cells": [
  {
   "cell_type": "code",
   "execution_count": 1,
   "id": "d52fa543",
   "metadata": {},
   "outputs": [],
   "source": [
    "import json\n",
    "\n",
    "def convert_and_save_data(input_filepath, output_filename):\n",
    "    \"\"\"\n",
    "    Converts the input data to the desired output format and saves it to a JSON file.\n",
    "\n",
    "    Args:\n",
    "        data (dict): The input data dictionary.\n",
    "        output_filename (str): The name of the output JSON file.\n",
    "    \"\"\"\n",
    "    with open(input_filepath, 'r') as f:\n",
    "            data = json.load(f)\n",
    "    output_list = []\n",
    "    for annotation in data['annotations']:\n",
    "        image_id = annotation['image_id']\n",
    "        image_data = next(\n",
    "            (img for img in data['images'] if img['id'] == image_id), None\n",
    "        )\n",
    "\n",
    "        if image_data:\n",
    "            joints = []\n",
    "            joints_vis = []\n",
    "            for i in range(0, len(annotation['keypoints']), 3):\n",
    "                x = annotation['keypoints'][i]\n",
    "                y = annotation['keypoints'][i + 1]\n",
    "                v = annotation['keypoints'][i + 2] - 1\n",
    "                joints.append([x, y])\n",
    "                joints_vis.append(v)\n",
    "\n",
    "            center_x = annotation[\"bbox\"][0] + annotation[\"bbox\"][2] / 2\n",
    "            center_y = annotation[\"bbox\"][1] + annotation[\"bbox\"][3] / 2\n",
    "            scale = (center_x - annotation[\"bbox\"][0])/100\n",
    "            \n",
    "            output_list.append(\n",
    "                {\n",
    "                    \"joints_vis\": joints_vis,\n",
    "                    \"joints\": joints,\n",
    "                    \"image\": image_data['file_name'],\n",
    "                    \"scale\": scale,\n",
    "                    \"center\": [center_x, center_y],\n",
    "                }\n",
    "            )\n",
    "\n",
    "    with open(output_filename, 'w') as f:\n",
    "        json.dump(output_list, f, indent=2)\n",
    "\n",
    "    print(f\"Data saved to {output_filename}\")"
   ]
  },
  {
   "cell_type": "code",
   "execution_count": 2,
   "id": "05cade5d",
   "metadata": {},
   "outputs": [],
   "source": [
    "input_filepath = r\"coco_to_mpii_test.json\"\n",
    "output_filename = r\"mpii_test.json\""
   ]
  },
  {
   "cell_type": "code",
   "execution_count": 3,
   "id": "9d776ca3",
   "metadata": {},
   "outputs": [
    {
     "name": "stdout",
     "output_type": "stream",
     "text": [
      "Data saved to mpii_test.json\n"
     ]
    }
   ],
   "source": [
    "convert_and_save_data(input_filepath, output_filename)"
   ]
  }
 ],
 "metadata": {
  "kernelspec": {
   "display_name": "matlab",
   "language": "python",
   "name": "python3"
  },
  "language_info": {
   "codemirror_mode": {
    "name": "ipython",
    "version": 3
   },
   "file_extension": ".py",
   "mimetype": "text/x-python",
   "name": "python",
   "nbconvert_exporter": "python",
   "pygments_lexer": "ipython3",
   "version": "3.13.2"
  }
 },
 "nbformat": 4,
 "nbformat_minor": 5
}
